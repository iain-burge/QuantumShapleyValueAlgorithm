{
 "cells": [
  {
   "attachments": {},
   "cell_type": "markdown",
   "metadata": {},
   "source": [
    "# Random Voting Games & Quantum Shapley Values\n",
    "This notebook generates random voting games and uses a quantum algorithm to estimate the Shapley value of each player. \n",
    "It then performs some basic data analysis on the predictions."
   ]
  },
  {
   "attachments": {},
   "cell_type": "markdown",
   "metadata": {},
   "source": [
    "### Import Libraries"
   ]
  },
  {
   "cell_type": "code",
   "execution_count": 4,
   "metadata": {},
   "outputs": [],
   "source": [
    "import quantumBasicVotingGame as vg\n",
    "from quantumShapEstimation import QuantumShapleyWrapper as qsw\n",
    "\n",
    "import numpy as np\n",
    "import matplotlib.pyplot as plt\n",
    "import pickle\n",
    "from tqdm.auto import tqdm"
   ]
  },
  {
   "attachments": {},
   "cell_type": "markdown",
   "metadata": {},
   "source": [
    "### Define Variables"
   ]
  },
  {
   "cell_type": "code",
   "execution_count": 5,
   "metadata": {},
   "outputs": [],
   "source": [
    "numTrials = 50\n",
    "\n",
    "minEll = 1\n",
    "maxEll = 6\n",
    "\n",
    "#Defining the different conditions\n",
    "# numPlayersCond    = [4,8,12]\n",
    "numPlayersCond    = [4,6,8,10]\n",
    "thresholdBitCond  = [3,4,5,5]\n",
    "roughVarianceCond = [1,1,2,2]\n"
   ]
  },
  {
   "attachments": {},
   "cell_type": "markdown",
   "metadata": {},
   "source": [
    "### Run Simulations"
   ]
  },
  {
   "cell_type": "code",
   "execution_count": 6,
   "metadata": {},
   "outputs": [
    {
     "data": {
      "application/vnd.jupyter.widget-view+json": {
       "model_id": "c0bb899128174751a49a6fc1c845e2d7",
       "version_major": 2,
       "version_minor": 0
      },
      "text/plain": [
       "Current Trial:   0%|          | 0/50 [00:00<?, ?it/s]"
      ]
     },
     "metadata": {},
     "output_type": "display_data"
    },
    {
     "data": {
      "application/vnd.jupyter.widget-view+json": {
       "model_id": "4dd4815c9763421a9eafe47a01272632",
       "version_major": 2,
       "version_minor": 0
      },
      "text/plain": [
       "Current Ell:   0%|          | 0/6 [00:00<?, ?it/s]"
      ]
     },
     "metadata": {},
     "output_type": "display_data"
    },
    {
     "data": {
      "application/vnd.jupyter.widget-view+json": {
       "model_id": "3e95733f75cd406b92f0bdbcff4e9f21",
       "version_major": 2,
       "version_minor": 0
      },
      "text/plain": [
       "Current Ell:   0%|          | 0/6 [00:00<?, ?it/s]"
      ]
     },
     "metadata": {},
     "output_type": "display_data"
    },
    {
     "data": {
      "application/vnd.jupyter.widget-view+json": {
       "model_id": "88db19ae76364a388e2aa11611d8ed86",
       "version_major": 2,
       "version_minor": 0
      },
      "text/plain": [
       "Current Ell:   0%|          | 0/6 [00:00<?, ?it/s]"
      ]
     },
     "metadata": {},
     "output_type": "display_data"
    },
    {
     "data": {
      "application/vnd.jupyter.widget-view+json": {
       "model_id": "588da0923b854071bc259d7d6e0769cc",
       "version_major": 2,
       "version_minor": 0
      },
      "text/plain": [
       "Current Ell:   0%|          | 0/6 [00:00<?, ?it/s]"
      ]
     },
     "metadata": {},
     "output_type": "display_data"
    },
    {
     "data": {
      "application/vnd.jupyter.widget-view+json": {
       "model_id": "39d63aae2bdf4db69309ee20c8ac0f65",
       "version_major": 2,
       "version_minor": 0
      },
      "text/plain": [
       "Current Ell:   0%|          | 0/6 [00:00<?, ?it/s]"
      ]
     },
     "metadata": {},
     "output_type": "display_data"
    },
    {
     "data": {
      "application/vnd.jupyter.widget-view+json": {
       "model_id": "b8fb0085804f4317b13f9d91af982782",
       "version_major": 2,
       "version_minor": 0
      },
      "text/plain": [
       "Current Ell:   0%|          | 0/6 [00:00<?, ?it/s]"
      ]
     },
     "metadata": {},
     "output_type": "display_data"
    },
    {
     "data": {
      "application/vnd.jupyter.widget-view+json": {
       "model_id": "60940b02783a42cdbc9ab26bc6182c93",
       "version_major": 2,
       "version_minor": 0
      },
      "text/plain": [
       "Current Ell:   0%|          | 0/6 [00:00<?, ?it/s]"
      ]
     },
     "metadata": {},
     "output_type": "display_data"
    },
    {
     "data": {
      "application/vnd.jupyter.widget-view+json": {
       "model_id": "9120e1968efa418d8676f254e6d71e9e",
       "version_major": 2,
       "version_minor": 0
      },
      "text/plain": [
       "Current Ell:   0%|          | 0/6 [00:00<?, ?it/s]"
      ]
     },
     "metadata": {},
     "output_type": "display_data"
    },
    {
     "data": {
      "application/vnd.jupyter.widget-view+json": {
       "model_id": "bb4e33bdef57471691561c56ccf2393d",
       "version_major": 2,
       "version_minor": 0
      },
      "text/plain": [
       "Current Ell:   0%|          | 0/6 [00:00<?, ?it/s]"
      ]
     },
     "metadata": {},
     "output_type": "display_data"
    },
    {
     "data": {
      "application/vnd.jupyter.widget-view+json": {
       "model_id": "d8b4117bc14a436cb071baafc7b648ed",
       "version_major": 2,
       "version_minor": 0
      },
      "text/plain": [
       "Current Ell:   0%|          | 0/6 [00:00<?, ?it/s]"
      ]
     },
     "metadata": {},
     "output_type": "display_data"
    },
    {
     "data": {
      "application/vnd.jupyter.widget-view+json": {
       "model_id": "e5189470829a419591f3aafd2a8f645c",
       "version_major": 2,
       "version_minor": 0
      },
      "text/plain": [
       "Current Ell:   0%|          | 0/6 [00:00<?, ?it/s]"
      ]
     },
     "metadata": {},
     "output_type": "display_data"
    },
    {
     "data": {
      "application/vnd.jupyter.widget-view+json": {
       "model_id": "730720d9f8cf430f920ce5511b54e515",
       "version_major": 2,
       "version_minor": 0
      },
      "text/plain": [
       "Current Ell:   0%|          | 0/6 [00:00<?, ?it/s]"
      ]
     },
     "metadata": {},
     "output_type": "display_data"
    },
    {
     "data": {
      "application/vnd.jupyter.widget-view+json": {
       "model_id": "0f2ea0faf7444f4f8368ebfe729343e6",
       "version_major": 2,
       "version_minor": 0
      },
      "text/plain": [
       "Current Ell:   0%|          | 0/6 [00:00<?, ?it/s]"
      ]
     },
     "metadata": {},
     "output_type": "display_data"
    },
    {
     "data": {
      "application/vnd.jupyter.widget-view+json": {
       "model_id": "cfa05891d95f49078605f065b3ed4766",
       "version_major": 2,
       "version_minor": 0
      },
      "text/plain": [
       "Current Ell:   0%|          | 0/6 [00:00<?, ?it/s]"
      ]
     },
     "metadata": {},
     "output_type": "display_data"
    },
    {
     "data": {
      "application/vnd.jupyter.widget-view+json": {
       "model_id": "326d89606812473ab2f249711a905059",
       "version_major": 2,
       "version_minor": 0
      },
      "text/plain": [
       "Current Ell:   0%|          | 0/6 [00:00<?, ?it/s]"
      ]
     },
     "metadata": {},
     "output_type": "display_data"
    },
    {
     "data": {
      "application/vnd.jupyter.widget-view+json": {
       "model_id": "09a44710a2484613a5f2351cdc74105f",
       "version_major": 2,
       "version_minor": 0
      },
      "text/plain": [
       "Current Ell:   0%|          | 0/6 [00:00<?, ?it/s]"
      ]
     },
     "metadata": {},
     "output_type": "display_data"
    },
    {
     "data": {
      "application/vnd.jupyter.widget-view+json": {
       "model_id": "81984f21818047dea5a410ab17e88392",
       "version_major": 2,
       "version_minor": 0
      },
      "text/plain": [
       "Current Ell:   0%|          | 0/6 [00:00<?, ?it/s]"
      ]
     },
     "metadata": {},
     "output_type": "display_data"
    },
    {
     "data": {
      "application/vnd.jupyter.widget-view+json": {
       "model_id": "265711ec08e14c88b2e4f48afb22fb0f",
       "version_major": 2,
       "version_minor": 0
      },
      "text/plain": [
       "Current Ell:   0%|          | 0/6 [00:00<?, ?it/s]"
      ]
     },
     "metadata": {},
     "output_type": "display_data"
    },
    {
     "data": {
      "application/vnd.jupyter.widget-view+json": {
       "model_id": "49021cc3e116431f8717d1f94157fbba",
       "version_major": 2,
       "version_minor": 0
      },
      "text/plain": [
       "Current Ell:   0%|          | 0/6 [00:00<?, ?it/s]"
      ]
     },
     "metadata": {},
     "output_type": "display_data"
    },
    {
     "data": {
      "application/vnd.jupyter.widget-view+json": {
       "model_id": "5753d6c542dd44918f3d8a888e7fba04",
       "version_major": 2,
       "version_minor": 0
      },
      "text/plain": [
       "Current Ell:   0%|          | 0/6 [00:00<?, ?it/s]"
      ]
     },
     "metadata": {},
     "output_type": "display_data"
    },
    {
     "data": {
      "application/vnd.jupyter.widget-view+json": {
       "model_id": "a9d9683ada8e422db2ac4ac1c648ad23",
       "version_major": 2,
       "version_minor": 0
      },
      "text/plain": [
       "Current Ell:   0%|          | 0/6 [00:00<?, ?it/s]"
      ]
     },
     "metadata": {},
     "output_type": "display_data"
    },
    {
     "data": {
      "application/vnd.jupyter.widget-view+json": {
       "model_id": "a0209feebb4a4f12b9db15af9ad42e2e",
       "version_major": 2,
       "version_minor": 0
      },
      "text/plain": [
       "Current Ell:   0%|          | 0/6 [00:00<?, ?it/s]"
      ]
     },
     "metadata": {},
     "output_type": "display_data"
    },
    {
     "data": {
      "application/vnd.jupyter.widget-view+json": {
       "model_id": "b7420161ce5b4aa3adb5d26920f5e95a",
       "version_major": 2,
       "version_minor": 0
      },
      "text/plain": [
       "Current Ell:   0%|          | 0/6 [00:00<?, ?it/s]"
      ]
     },
     "metadata": {},
     "output_type": "display_data"
    },
    {
     "data": {
      "application/vnd.jupyter.widget-view+json": {
       "model_id": "5e4732bd7e3b4b5899df99898d1cba0b",
       "version_major": 2,
       "version_minor": 0
      },
      "text/plain": [
       "Current Ell:   0%|          | 0/6 [00:00<?, ?it/s]"
      ]
     },
     "metadata": {},
     "output_type": "display_data"
    },
    {
     "data": {
      "application/vnd.jupyter.widget-view+json": {
       "model_id": "3965bc7526964451808ae1bb5191948b",
       "version_major": 2,
       "version_minor": 0
      },
      "text/plain": [
       "Current Ell:   0%|          | 0/6 [00:00<?, ?it/s]"
      ]
     },
     "metadata": {},
     "output_type": "display_data"
    },
    {
     "data": {
      "application/vnd.jupyter.widget-view+json": {
       "model_id": "53eb9ed02841402ea6a3aa8a729c5eec",
       "version_major": 2,
       "version_minor": 0
      },
      "text/plain": [
       "Current Ell:   0%|          | 0/6 [00:00<?, ?it/s]"
      ]
     },
     "metadata": {},
     "output_type": "display_data"
    },
    {
     "data": {
      "application/vnd.jupyter.widget-view+json": {
       "model_id": "1eb20a006eb648b88cd167b7018266d4",
       "version_major": 2,
       "version_minor": 0
      },
      "text/plain": [
       "Current Ell:   0%|          | 0/6 [00:00<?, ?it/s]"
      ]
     },
     "metadata": {},
     "output_type": "display_data"
    },
    {
     "data": {
      "application/vnd.jupyter.widget-view+json": {
       "model_id": "aa62dd74392b45beb770f4b25f6fc1bc",
       "version_major": 2,
       "version_minor": 0
      },
      "text/plain": [
       "Current Ell:   0%|          | 0/6 [00:00<?, ?it/s]"
      ]
     },
     "metadata": {},
     "output_type": "display_data"
    },
    {
     "data": {
      "application/vnd.jupyter.widget-view+json": {
       "model_id": "125a3d4f519a44c0b91d9a981371fe39",
       "version_major": 2,
       "version_minor": 0
      },
      "text/plain": [
       "Current Ell:   0%|          | 0/6 [00:00<?, ?it/s]"
      ]
     },
     "metadata": {},
     "output_type": "display_data"
    },
    {
     "data": {
      "application/vnd.jupyter.widget-view+json": {
       "model_id": "7e4f70d063d34c5b853476342c05f19a",
       "version_major": 2,
       "version_minor": 0
      },
      "text/plain": [
       "Current Ell:   0%|          | 0/6 [00:00<?, ?it/s]"
      ]
     },
     "metadata": {},
     "output_type": "display_data"
    },
    {
     "data": {
      "application/vnd.jupyter.widget-view+json": {
       "model_id": "cb4d5cadeb8d48c99c73c951b72cd260",
       "version_major": 2,
       "version_minor": 0
      },
      "text/plain": [
       "Current Ell:   0%|          | 0/6 [00:00<?, ?it/s]"
      ]
     },
     "metadata": {},
     "output_type": "display_data"
    },
    {
     "data": {
      "application/vnd.jupyter.widget-view+json": {
       "model_id": "c0a81b2dfd5c4e8ca01da8237e5dae51",
       "version_major": 2,
       "version_minor": 0
      },
      "text/plain": [
       "Current Ell:   0%|          | 0/6 [00:00<?, ?it/s]"
      ]
     },
     "metadata": {},
     "output_type": "display_data"
    },
    {
     "data": {
      "application/vnd.jupyter.widget-view+json": {
       "model_id": "96175fe5e7884dfd9d6bbc70b426f531",
       "version_major": 2,
       "version_minor": 0
      },
      "text/plain": [
       "Current Ell:   0%|          | 0/6 [00:00<?, ?it/s]"
      ]
     },
     "metadata": {},
     "output_type": "display_data"
    },
    {
     "data": {
      "application/vnd.jupyter.widget-view+json": {
       "model_id": "542472dcac58401eb1abc33b3a10469a",
       "version_major": 2,
       "version_minor": 0
      },
      "text/plain": [
       "Current Ell:   0%|          | 0/6 [00:00<?, ?it/s]"
      ]
     },
     "metadata": {},
     "output_type": "display_data"
    },
    {
     "data": {
      "application/vnd.jupyter.widget-view+json": {
       "model_id": "b50022374ebc4b4193b0e4e80d8dd69d",
       "version_major": 2,
       "version_minor": 0
      },
      "text/plain": [
       "Current Ell:   0%|          | 0/6 [00:00<?, ?it/s]"
      ]
     },
     "metadata": {},
     "output_type": "display_data"
    },
    {
     "data": {
      "application/vnd.jupyter.widget-view+json": {
       "model_id": "78543f3fec33402a966f875bcf024da5",
       "version_major": 2,
       "version_minor": 0
      },
      "text/plain": [
       "Current Ell:   0%|          | 0/6 [00:00<?, ?it/s]"
      ]
     },
     "metadata": {},
     "output_type": "display_data"
    },
    {
     "data": {
      "application/vnd.jupyter.widget-view+json": {
       "model_id": "cd94bb41296343f0b653a277dbfbc005",
       "version_major": 2,
       "version_minor": 0
      },
      "text/plain": [
       "Current Ell:   0%|          | 0/6 [00:00<?, ?it/s]"
      ]
     },
     "metadata": {},
     "output_type": "display_data"
    },
    {
     "data": {
      "application/vnd.jupyter.widget-view+json": {
       "model_id": "1c07d3c261a941bc8ea232d65331224f",
       "version_major": 2,
       "version_minor": 0
      },
      "text/plain": [
       "Current Ell:   0%|          | 0/6 [00:00<?, ?it/s]"
      ]
     },
     "metadata": {},
     "output_type": "display_data"
    },
    {
     "data": {
      "application/vnd.jupyter.widget-view+json": {
       "model_id": "84a06204705c4bd6ac9a81e5816002dd",
       "version_major": 2,
       "version_minor": 0
      },
      "text/plain": [
       "Current Ell:   0%|          | 0/6 [00:00<?, ?it/s]"
      ]
     },
     "metadata": {},
     "output_type": "display_data"
    },
    {
     "data": {
      "application/vnd.jupyter.widget-view+json": {
       "model_id": "a1fcdfbfb8e6405b89237fdf6be99c40",
       "version_major": 2,
       "version_minor": 0
      },
      "text/plain": [
       "Current Ell:   0%|          | 0/6 [00:00<?, ?it/s]"
      ]
     },
     "metadata": {},
     "output_type": "display_data"
    },
    {
     "data": {
      "application/vnd.jupyter.widget-view+json": {
       "model_id": "f0ddcc43ada1450a878d8b35e46a1d84",
       "version_major": 2,
       "version_minor": 0
      },
      "text/plain": [
       "Current Ell:   0%|          | 0/6 [00:00<?, ?it/s]"
      ]
     },
     "metadata": {},
     "output_type": "display_data"
    },
    {
     "data": {
      "application/vnd.jupyter.widget-view+json": {
       "model_id": "9a4aac1edf204ec7873c51b007896d39",
       "version_major": 2,
       "version_minor": 0
      },
      "text/plain": [
       "Current Ell:   0%|          | 0/6 [00:00<?, ?it/s]"
      ]
     },
     "metadata": {},
     "output_type": "display_data"
    },
    {
     "data": {
      "application/vnd.jupyter.widget-view+json": {
       "model_id": "c8f935f7d8354d189c469eacfe309f32",
       "version_major": 2,
       "version_minor": 0
      },
      "text/plain": [
       "Current Ell:   0%|          | 0/6 [00:00<?, ?it/s]"
      ]
     },
     "metadata": {},
     "output_type": "display_data"
    },
    {
     "data": {
      "application/vnd.jupyter.widget-view+json": {
       "model_id": "35f828656e8b47328d419886e2925014",
       "version_major": 2,
       "version_minor": 0
      },
      "text/plain": [
       "Current Ell:   0%|          | 0/6 [00:00<?, ?it/s]"
      ]
     },
     "metadata": {},
     "output_type": "display_data"
    },
    {
     "data": {
      "application/vnd.jupyter.widget-view+json": {
       "model_id": "2f9deceaaf5e4a13885937ce812eecad",
       "version_major": 2,
       "version_minor": 0
      },
      "text/plain": [
       "Current Ell:   0%|          | 0/6 [00:00<?, ?it/s]"
      ]
     },
     "metadata": {},
     "output_type": "display_data"
    },
    {
     "data": {
      "application/vnd.jupyter.widget-view+json": {
       "model_id": "9f745b50bf5b4952ae8a0a87905c60ff",
       "version_major": 2,
       "version_minor": 0
      },
      "text/plain": [
       "Current Ell:   0%|          | 0/6 [00:00<?, ?it/s]"
      ]
     },
     "metadata": {},
     "output_type": "display_data"
    },
    {
     "data": {
      "application/vnd.jupyter.widget-view+json": {
       "model_id": "8ecd67f51a334ecfb6c364d08252772f",
       "version_major": 2,
       "version_minor": 0
      },
      "text/plain": [
       "Current Ell:   0%|          | 0/6 [00:00<?, ?it/s]"
      ]
     },
     "metadata": {},
     "output_type": "display_data"
    },
    {
     "data": {
      "application/vnd.jupyter.widget-view+json": {
       "model_id": "32a23828d2c34c95a64c31b1d502b412",
       "version_major": 2,
       "version_minor": 0
      },
      "text/plain": [
       "Current Ell:   0%|          | 0/6 [00:00<?, ?it/s]"
      ]
     },
     "metadata": {},
     "output_type": "display_data"
    },
    {
     "data": {
      "application/vnd.jupyter.widget-view+json": {
       "model_id": "bcea64affbe04f6b8e5ef8523cf3bea9",
       "version_major": 2,
       "version_minor": 0
      },
      "text/plain": [
       "Current Ell:   0%|          | 0/6 [00:00<?, ?it/s]"
      ]
     },
     "metadata": {},
     "output_type": "display_data"
    },
    {
     "data": {
      "application/vnd.jupyter.widget-view+json": {
       "model_id": "c69682ccef144b24907f7642145c80d7",
       "version_major": 2,
       "version_minor": 0
      },
      "text/plain": [
       "Current Ell:   0%|          | 0/6 [00:00<?, ?it/s]"
      ]
     },
     "metadata": {},
     "output_type": "display_data"
    }
   ],
   "source": [
    "simulations = {}\n",
    "\n",
    "for trialNum in tqdm(range(numTrials), desc=\"Current Trial\"):\n",
    "    for ell in tqdm(range(minEll,maxEll+1), desc=\"Current Ell\"):\n",
    "        for n, thresholdBits, roughVariance in zip(\n",
    "            numPlayersCond, thresholdBitCond, roughVarianceCond\n",
    "        ):\n",
    "            trial = (n,ell,trialNum)\n",
    "\n",
    "\n",
    "            #New random game\n",
    "            threshold = 2**(thresholdBits-1)\n",
    "            playerVals = vg.randomVotingGame(\n",
    "                numPlayers=n,\n",
    "                thresholdBits=thresholdBits,\n",
    "                roughVariance=roughVariance\n",
    "            )\n",
    "\n",
    "            #quantum Shapley\n",
    "            qshaps = vg.quantumVotingShap(\n",
    "                threshold=threshold,\n",
    "                playerVals=playerVals,\n",
    "                ell=ell\n",
    "            )\n",
    "\n",
    "            #classical Shapley\n",
    "            cshaps = vg.classicalVotingShap(\n",
    "                threshold=threshold,\n",
    "                playerVals=playerVals,\n",
    "            )\n",
    "\n",
    "            #Store outcome\n",
    "            simulations[trial] = (qshaps, cshaps)\n",
    "\n"
   ]
  },
  {
   "attachments": {},
   "cell_type": "markdown",
   "metadata": {},
   "source": [
    "### Save Results"
   ]
  },
  {
   "cell_type": "code",
   "execution_count": 7,
   "metadata": {},
   "outputs": [],
   "source": [
    "with open('shapleyVoteResults.pkl', 'wb') as f:\n",
    "    pickle.dump(simulations, f)"
   ]
  },
  {
   "cell_type": "code",
   "execution_count": 8,
   "metadata": {},
   "outputs": [],
   "source": [
    "# with open('shapleyVoteResults_Apr30_11-55PM.pkl', 'rb') as fp:\n",
    "#     simulations = pickle.load(fp)"
   ]
  },
  {
   "attachments": {},
   "cell_type": "markdown",
   "metadata": {},
   "source": [
    "### Analyze Trials "
   ]
  },
  {
   "cell_type": "code",
   "execution_count": 9,
   "metadata": {},
   "outputs": [],
   "source": [
    "def meanAbsError(qshaps, cshaps):\n",
    "    err = 0\n",
    "    for qshap, cshap in zip(qshaps, cshaps):\n",
    "        err += abs(qshap-cshap)\n",
    "    return err"
   ]
  },
  {
   "cell_type": "code",
   "execution_count": 68,
   "metadata": {},
   "outputs": [
    {
     "name": "stdout",
     "output_type": "stream",
     "text": [
      "n=4: [5.99793808e-02 1.30051702e-02 2.19197720e-03 3.44589000e-04\n",
      " 8.89432000e-05]\n",
      "n=4: [0.0, 1.5399999999665681e-06, 0.0, 0.0, 0.0]\n",
      "n=6: [0.16319448 0.02002237 0.00500835 0.00120386 0.00021799]\n",
      "n=6: [4.440892098500626e-16, 4.440892098500626e-16, 5.9480000000111666e-05, 0.00017628000000002864, 4.440892098500626e-16]\n",
      "n=8: [0.25853305 0.02430151 0.00608229 0.00168357 0.00060876]\n",
      "n=8: [0.0002428400000004105, 1.5543122344752192e-15, 0.0002495799999994164, 0.0003146600000000707, 6.00800000000179e-05]\n",
      "n=10: [0.28601567 0.03026643 0.00526746 0.00082446 0.00035872]\n",
      "n=10: [0.00047275999999829565, 0.004022053333334358, 5.990000000166695e-05, 3.0200000002283955e-05, 6.005000000069982e-05]\n"
     ]
    },
    {
     "data": {
      "image/png": "[encoded data removed]",
      "text/plain": [
       "<Figure size 864x360 with 4 Axes>"
      ]
     },
     "metadata": {
      "needs_background": "light"
     },
     "output_type": "display_data"
    }
   ],
   "source": [
    "# print(simulations)\n",
    "plt.rcParams['figure.figsize'] = [12, 5]\n",
    "fig, ax = plt.subplots(1, len(numPlayersCond))\n",
    "ax[0].set_ylabel(r\"Mean Absolute Error\")\n",
    "\n",
    "#We're looking to find reciprocal mean abs error per trial\n",
    "#For each trial with n players\n",
    "for i, n in enumerate(numPlayersCond):\n",
    "    #Orient data\n",
    "    resultsX = []\n",
    "    resultsY = []\n",
    "    resultMax = []\n",
    "    resultMin = []\n",
    "    resultErr = []\n",
    "    for ell in range(minEll, maxEll):\n",
    "        trialOutcomes = []\n",
    "\n",
    "        for trialNum in range(numTrials):\n",
    "            qshaps, cshaps = simulations[(n,ell,trialNum)]\n",
    "            # trialOutcomes.append(\n",
    "            #     meanAbsError(qshaps, cshaps)\n",
    "            # )\n",
    "            diffs = np.array(qshaps) - np.array(cshaps)\n",
    "            # print(diffs)\n",
    "            trialOutcomes.append(np.linalg.norm(diffs, ord=1))\n",
    "        \n",
    "        trialOutcomes = np.array(trialOutcomes)\n",
    "        resultsX.append(ell)\n",
    "        resultsY.append(trialOutcomes.mean())\n",
    "        resultErr.append(trialOutcomes.std())\n",
    "        resultMax.append(trialOutcomes.max())\n",
    "        resultMin.append(trialOutcomes.min())\n",
    "\n",
    "        # resultsX += len(trialOutcomes) * [ell]\n",
    "        # resultsY += trialOutcomes\n",
    "    \n",
    "    ax[i].set_title(f\"{n} Players\")#, Threshold: {2**thresholdBitCond[i]}\")\n",
    "    ax[i].scatter(\n",
    "        np.array(resultsX),\n",
    "        np.array(resultMax),\n",
    "        # fmt='+',\n",
    "        # yerr=resultErr,\n",
    "        # align='center',\n",
    "        # alpha=0.5,\n",
    "        color='black',\n",
    "        # capsize=5,\n",
    "        marker='+',\n",
    "        label='Max Absolute Error'\n",
    "    )\n",
    "    ax[i].scatter(\n",
    "        np.array(resultsX),\n",
    "        np.array(resultsY),\n",
    "        # yerr = np.array(resultMax)-np.array(resultMin),#np.array(resultErr),#temp\n",
    "        # fmt='o',\n",
    "        # yerr=resultErr,\n",
    "        # align='center',\n",
    "        # alpha=0.5,\n",
    "        color='black',\n",
    "        # capsize=5,\n",
    "        label='Mean Absolute Error'\n",
    "    )\n",
    "    ax[i].set_xlabel(r\"$\\ell$\")\n",
    "    ax[i].set_yscale('log',base=2)\n",
    "    ax[i].set_ylim(2**(-14.5),1)\n",
    "    # if i!=0: ax[i].tick_params(left=False,labelleft=False)\n",
    "    print(f\"{n=}:\", np.array(resultsY))\n",
    "    print(f\"{n=}:\",resultMin)\n",
    "\n",
    "ax[-1].legend()\n",
    "plt.tight_layout()\n",
    "plt.show()"
   ]
  }
 ],
 "metadata": {
  "kernelspec": {
   "display_name": "venvThesis",
   "language": "python",
   "name": "python3"
  },
  "language_info": {
   "codemirror_mode": {
    "name": "ipython",
    "version": 3
   },
   "file_extension": ".py",
   "mimetype": "text/x-python",
   "name": "python",
   "nbconvert_exporter": "python",
   "pygments_lexer": "ipython3",
   "version": "3.9.2"
  },
  "orig_nbformat": 4
 },
 "nbformat": 4,
 "nbformat_minor": 2
}
